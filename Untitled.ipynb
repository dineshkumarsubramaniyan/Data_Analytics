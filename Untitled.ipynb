{
 "cells": [
  {
   "cell_type": "code",
   "execution_count": 5,
   "id": "1738d33f-2e94-41f5-bff2-c7dcc98ba562",
   "metadata": {},
   "outputs": [],
   "source": [
    "my_rank = 10.5, 6 , 8"
   ]
  },
  {
   "cell_type": "code",
   "execution_count": 6,
   "id": "055a922c-1dd7-4b70-9b32-415a41b9f77e",
   "metadata": {},
   "outputs": [
    {
     "data": {
      "text/plain": [
       "(10.5, 6, 8)"
      ]
     },
     "execution_count": 6,
     "metadata": {},
     "output_type": "execute_result"
    }
   ],
   "source": [
    "my_rank"
   ]
  },
  {
   "cell_type": "code",
   "execution_count": 7,
   "id": "a8fe026f-514b-42aa-8aff-5f80a56c1378",
   "metadata": {},
   "outputs": [
    {
     "data": {
      "text/plain": [
       "tuple"
      ]
     },
     "execution_count": 7,
     "metadata": {},
     "output_type": "execute_result"
    }
   ],
   "source": [
    "type(my_rank)"
   ]
  },
  {
   "cell_type": "code",
   "execution_count": 13,
   "id": "deb1f29e-aae1-4294-9456-ff1585fcf6d8",
   "metadata": {},
   "outputs": [
    {
     "data": {
      "text/plain": [
       "8"
      ]
     },
     "execution_count": 13,
     "metadata": {},
     "output_type": "execute_result"
    }
   ],
   "source": [
    "my_rank[2]"
   ]
  },
  {
   "cell_type": "code",
   "execution_count": null,
   "id": "41f3e607-ecac-4435-9ae1-748992577d5c",
   "metadata": {},
   "outputs": [],
   "source": []
  }
 ],
 "metadata": {
  "kernelspec": {
   "display_name": "Python 3 (ipykernel)",
   "language": "python",
   "name": "python3"
  },
  "language_info": {
   "codemirror_mode": {
    "name": "ipython",
    "version": 3
   },
   "file_extension": ".py",
   "mimetype": "text/x-python",
   "name": "python",
   "nbconvert_exporter": "python",
   "pygments_lexer": "ipython3",
   "version": "3.10.0"
  }
 },
 "nbformat": 4,
 "nbformat_minor": 5
}
