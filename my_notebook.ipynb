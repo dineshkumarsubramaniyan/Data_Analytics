{
 "cells": [
  {
   "cell_type": "code",
   "execution_count": 3,
   "id": "10d40a35-696c-4997-8ee2-e1806ff9d499",
   "metadata": {},
   "outputs": [],
   "source": [
    "# data types\n",
    "\n",
    "# string --> str --> alphanumbericals within quotes --> e.g \"Dinesh\", \"pass123\", \"my_city\", \"2798374937%&&%*#($*\", 'dgfh', 'sdgoioia'\n",
    "# integer --> int --> numbers (complete) --> 1 , 3 , 5, 19, 45, 9873264 , -3, -5,-45\n",
    "# float --> float --> decimals (fractional) --> 0.9, 34.8745, 98.84875\n",
    "# boolean --> bool --> True & False"
   ]
  },
  {
   "cell_type": "code",
   "execution_count": 17,
   "id": "e4f0c3c6-bc9b-40b5-b2af-1347c8a27bf7",
   "metadata": {},
   "outputs": [],
   "source": [
    "name = \"Dineshkumar's\""
   ]
  },
  {
   "cell_type": "code",
   "execution_count": 12,
   "id": "9e1af412-be63-452d-9777-2d045160db21",
   "metadata": {},
   "outputs": [
    {
     "name": "stdout",
     "output_type": "stream",
     "text": [
      "Dineshkumar's\n"
     ]
    }
   ],
   "source": [
    "print(name)"
   ]
  },
  {
   "cell_type": "code",
   "execution_count": 18,
   "id": "69e4e163-d98e-4305-8f5a-117da0fa2f72",
   "metadata": {},
   "outputs": [
    {
     "data": {
      "text/plain": [
       "\"Dineshkumar's\""
      ]
     },
     "execution_count": 18,
     "metadata": {},
     "output_type": "execute_result"
    }
   ],
   "source": [
    "name"
   ]
  },
  {
   "cell_type": "code",
   "execution_count": 9,
   "id": "7b894084-752c-4f67-8a6f-ef9d0a8b8257",
   "metadata": {},
   "outputs": [
    {
     "data": {
      "text/plain": [
       "str"
      ]
     },
     "execution_count": 9,
     "metadata": {},
     "output_type": "execute_result"
    }
   ],
   "source": [
    "type(name)"
   ]
  },
  {
   "cell_type": "code",
   "execution_count": 13,
   "id": "cb6afe60-ea03-4f79-b085-c03da13ee85c",
   "metadata": {},
   "outputs": [],
   "source": [
    "number = 34"
   ]
  },
  {
   "cell_type": "code",
   "execution_count": 14,
   "id": "928fc098-fc12-4607-9d88-64110d0e9054",
   "metadata": {},
   "outputs": [
    {
     "name": "stdout",
     "output_type": "stream",
     "text": [
      "34\n"
     ]
    }
   ],
   "source": [
    "print(number)"
   ]
  },
  {
   "cell_type": "code",
   "execution_count": 15,
   "id": "876a5c20-a858-4069-89e2-0846ccc55f61",
   "metadata": {},
   "outputs": [
    {
     "name": "stdout",
     "output_type": "stream",
     "text": [
      "<class 'int'>\n"
     ]
    }
   ],
   "source": [
    "print(type(number))"
   ]
  },
  {
   "cell_type": "code",
   "execution_count": 16,
   "id": "536abbab-47a0-4cb2-82e8-ccfaa4912b55",
   "metadata": {},
   "outputs": [
    {
     "data": {
      "text/plain": [
       "int"
      ]
     },
     "execution_count": 16,
     "metadata": {},
     "output_type": "execute_result"
    }
   ],
   "source": [
    "type(number)"
   ]
  },
  {
   "cell_type": "code",
   "execution_count": 23,
   "id": "9b94014e-5574-40ca-8c1a-31407214c4ff",
   "metadata": {},
   "outputs": [
    {
     "data": {
      "text/plain": [
       "'ten'"
      ]
     },
     "execution_count": 23,
     "metadata": {},
     "output_type": "execute_result"
    }
   ],
   "source": [
    "number"
   ]
  },
  {
   "cell_type": "code",
   "execution_count": 20,
   "id": "1ac4fe94-a158-4d40-8629-69ed049ebd90",
   "metadata": {},
   "outputs": [],
   "source": [
    "number = 100"
   ]
  },
  {
   "cell_type": "code",
   "execution_count": 22,
   "id": "be39d1bd-8509-44c6-8099-17e93e0d83bd",
   "metadata": {},
   "outputs": [],
   "source": [
    "number = \"ten\""
   ]
  },
  {
   "cell_type": "code",
   "execution_count": 24,
   "id": "58b374ef-8910-462c-9e09-9de89c469dc7",
   "metadata": {},
   "outputs": [],
   "source": [
    "number = -10"
   ]
  },
  {
   "cell_type": "code",
   "execution_count": 25,
   "id": "f83f0628-d89c-4eb2-bc9f-2a9b3af888a7",
   "metadata": {},
   "outputs": [
    {
     "data": {
      "text/plain": [
       "-10"
      ]
     },
     "execution_count": 25,
     "metadata": {},
     "output_type": "execute_result"
    }
   ],
   "source": [
    "number"
   ]
  },
  {
   "cell_type": "code",
   "execution_count": 28,
   "id": "07c76f52-3df9-4967-9ecf-7709308a552b",
   "metadata": {},
   "outputs": [
    {
     "data": {
      "text/plain": [
       "int"
      ]
     },
     "execution_count": 28,
     "metadata": {},
     "output_type": "execute_result"
    }
   ],
   "source": [
    "type(number)"
   ]
  },
  {
   "cell_type": "code",
   "execution_count": 29,
   "id": "5ce4b605-fea3-46be-93fd-e3a82906ce29",
   "metadata": {},
   "outputs": [],
   "source": [
    "my_num = 10.5"
   ]
  },
  {
   "cell_type": "code",
   "execution_count": 30,
   "id": "b05edfbf-4ba3-4c50-a7d3-d4fb929b3def",
   "metadata": {},
   "outputs": [
    {
     "data": {
      "text/plain": [
       "10.5"
      ]
     },
     "execution_count": 30,
     "metadata": {},
     "output_type": "execute_result"
    }
   ],
   "source": [
    "my_num"
   ]
  },
  {
   "cell_type": "code",
   "execution_count": 31,
   "id": "b8ada008-4e04-4fd4-9edc-496c74647982",
   "metadata": {},
   "outputs": [
    {
     "data": {
      "text/plain": [
       "float"
      ]
     },
     "execution_count": 31,
     "metadata": {},
     "output_type": "execute_result"
    }
   ],
   "source": [
    "type(my_num)"
   ]
  },
  {
   "cell_type": "code",
   "execution_count": 35,
   "id": "d4866913-d760-4b07-ba4e-5146079de4b8",
   "metadata": {},
   "outputs": [],
   "source": [
    "my_variable = True"
   ]
  },
  {
   "cell_type": "code",
   "execution_count": 36,
   "id": "f3b7b0b2-f315-48e5-a9dd-d534f831210a",
   "metadata": {},
   "outputs": [
    {
     "data": {
      "text/plain": [
       "bool"
      ]
     },
     "execution_count": 36,
     "metadata": {},
     "output_type": "execute_result"
    }
   ],
   "source": [
    "type(my_variable)"
   ]
  },
  {
   "cell_type": "code",
   "execution_count": 43,
   "id": "d584a026-2c94-43ce-9608-9c608c15b10b",
   "metadata": {},
   "outputs": [
    {
     "ename": "SyntaxError",
     "evalue": "invalid decimal literal (3083509613.py, line 1)",
     "output_type": "error",
     "traceback": [
      "\u001b[1;36m  Cell \u001b[1;32mIn[43], line 1\u001b[1;36m\u001b[0m\n\u001b[1;33m    1_varible = True\u001b[0m\n\u001b[1;37m     ^\u001b[0m\n\u001b[1;31mSyntaxError\u001b[0m\u001b[1;31m:\u001b[0m invalid decimal literal\n"
     ]
    }
   ],
   "source": [
    "1_varible = True"
   ]
  },
  {
   "cell_type": "code",
   "execution_count": 44,
   "id": "e9358884-4a40-4f73-a1b3-a8272b72898e",
   "metadata": {},
   "outputs": [],
   "source": [
    "varible123 = \"my_data\""
   ]
  },
  {
   "cell_type": "code",
   "execution_count": 45,
   "id": "647fb09c-7dc4-45a5-806f-7b29dcfc813f",
   "metadata": {},
   "outputs": [
    {
     "data": {
      "text/plain": [
       "'my_data'"
      ]
     },
     "execution_count": 45,
     "metadata": {},
     "output_type": "execute_result"
    }
   ],
   "source": [
    "varible123"
   ]
  },
  {
   "cell_type": "code",
   "execution_count": 46,
   "id": "c4bc7b54-74e9-498a-bf3c-37068bcbb41d",
   "metadata": {},
   "outputs": [],
   "source": [
    "num1 = 10\n",
    "num2 = 15"
   ]
  },
  {
   "cell_type": "code",
   "execution_count": 47,
   "id": "bad1c0c9-8222-448b-9839-1cd51bfb415c",
   "metadata": {},
   "outputs": [],
   "source": [
    "total = num1+num2"
   ]
  },
  {
   "cell_type": "code",
   "execution_count": 48,
   "id": "fae53d8c-49f5-4df7-8862-19e1d08c4637",
   "metadata": {},
   "outputs": [
    {
     "data": {
      "text/plain": [
       "25"
      ]
     },
     "execution_count": 48,
     "metadata": {},
     "output_type": "execute_result"
    }
   ],
   "source": [
    "total"
   ]
  },
  {
   "cell_type": "code",
   "execution_count": 94,
   "id": "15db3cbb-2782-42dc-b2f5-61f7ee129375",
   "metadata": {},
   "outputs": [],
   "source": [
    "my_list = [1, 2, 3, 4, \"coimbatore\", False]"
   ]
  },
  {
   "cell_type": "code",
   "execution_count": 61,
   "id": "cbdfa446-3831-47b2-abed-b3f0837e7061",
   "metadata": {},
   "outputs": [
    {
     "data": {
      "text/plain": [
       "[1, 2, 3, 4, 'coimbatore', False]"
      ]
     },
     "execution_count": 61,
     "metadata": {},
     "output_type": "execute_result"
    }
   ],
   "source": [
    "my_list"
   ]
  },
  {
   "cell_type": "code",
   "execution_count": 62,
   "id": "4fdd2a64-e074-4c8b-9146-9d832e520490",
   "metadata": {},
   "outputs": [
    {
     "data": {
      "text/plain": [
       "list"
      ]
     },
     "execution_count": 62,
     "metadata": {},
     "output_type": "execute_result"
    }
   ],
   "source": [
    "type(my_list)"
   ]
  },
  {
   "cell_type": "code",
   "execution_count": 68,
   "id": "3bcd93bc-4693-4e6e-9f26-3a332f3e057a",
   "metadata": {},
   "outputs": [
    {
     "data": {
      "text/plain": [
       "'coimbatore'"
      ]
     },
     "execution_count": 68,
     "metadata": {},
     "output_type": "execute_result"
    }
   ],
   "source": [
    "my_list[-2]"
   ]
  },
  {
   "cell_type": "code",
   "execution_count": 70,
   "id": "64dd6ef6-2829-4777-8deb-2d96a9f3eddd",
   "metadata": {},
   "outputs": [
    {
     "data": {
      "text/plain": [
       "str"
      ]
     },
     "execution_count": 70,
     "metadata": {},
     "output_type": "execute_result"
    }
   ],
   "source": [
    "type(my_list[-2])"
   ]
  },
  {
   "cell_type": "code",
   "execution_count": 71,
   "id": "32cdfba8-6482-4f29-848d-3873348c6ce4",
   "metadata": {},
   "outputs": [
    {
     "data": {
      "text/plain": [
       "[1, 2, 3, 4, 'coimbatore', False]"
      ]
     },
     "execution_count": 71,
     "metadata": {},
     "output_type": "execute_result"
    }
   ],
   "source": [
    "my_list"
   ]
  },
  {
   "cell_type": "code",
   "execution_count": 76,
   "id": "a712e5cb-2e17-4ab0-8057-d5fa783b7b78",
   "metadata": {},
   "outputs": [],
   "source": [
    "my_list.append(\"Madurai\")"
   ]
  },
  {
   "cell_type": "code",
   "execution_count": 77,
   "id": "f2d933b6-5919-4498-820d-1abbf1a59783",
   "metadata": {},
   "outputs": [
    {
     "data": {
      "text/plain": [
       "[1, 2, 3, 4, 'coimbatore', False, 10.5, 'Madurai']"
      ]
     },
     "execution_count": 77,
     "metadata": {},
     "output_type": "execute_result"
    }
   ],
   "source": [
    "my_list"
   ]
  },
  {
   "cell_type": "code",
   "execution_count": 74,
   "id": "33dc07bc-d65b-4609-a1e3-bc21f35dad30",
   "metadata": {},
   "outputs": [
    {
     "data": {
      "text/plain": [
       "10.5"
      ]
     },
     "execution_count": 74,
     "metadata": {},
     "output_type": "execute_result"
    }
   ],
   "source": [
    "my_list[-1]"
   ]
  },
  {
   "cell_type": "code",
   "execution_count": 75,
   "id": "1b060e82-f731-475a-997e-c5d447be6e27",
   "metadata": {},
   "outputs": [
    {
     "data": {
      "text/plain": [
       "float"
      ]
     },
     "execution_count": 75,
     "metadata": {},
     "output_type": "execute_result"
    }
   ],
   "source": [
    "type(my_list[-1])"
   ]
  },
  {
   "cell_type": "code",
   "execution_count": 78,
   "id": "a8e0b4f5-74d0-48f2-a89e-52cf8305cbb9",
   "metadata": {},
   "outputs": [],
   "source": [
    "my_list.insert(4, \"Chennai\")"
   ]
  },
  {
   "cell_type": "code",
   "execution_count": 92,
   "id": "74b9aaef-0bf9-4173-b1f2-fd9177337fe4",
   "metadata": {},
   "outputs": [
    {
     "data": {
      "text/plain": [
       "[2, 3, 56, 57, 49095, 878349]"
      ]
     },
     "execution_count": 92,
     "metadata": {},
     "output_type": "execute_result"
    }
   ],
   "source": [
    "my_list"
   ]
  },
  {
   "cell_type": "code",
   "execution_count": 80,
   "id": "9e8b4cef-f0f5-4be1-8c4c-afac0db183f4",
   "metadata": {},
   "outputs": [],
   "source": [
    "my_list.remove(\"Madurai\")"
   ]
  },
  {
   "cell_type": "code",
   "execution_count": 93,
   "id": "6b4d7c00-0d2a-44db-a39a-77766f34d891",
   "metadata": {},
   "outputs": [
    {
     "data": {
      "text/plain": [
       "[2, 3, 56, 57, 49095, 878349]"
      ]
     },
     "execution_count": 93,
     "metadata": {},
     "output_type": "execute_result"
    }
   ],
   "source": [
    "my_list"
   ]
  },
  {
   "cell_type": "code",
   "execution_count": 82,
   "id": "7365b426-6100-4820-a771-98f079ffc441",
   "metadata": {},
   "outputs": [
    {
     "data": {
      "text/plain": [
       "'coimbatore'"
      ]
     },
     "execution_count": 82,
     "metadata": {},
     "output_type": "execute_result"
    }
   ],
   "source": [
    "my_list.pop(5)"
   ]
  },
  {
   "cell_type": "code",
   "execution_count": 83,
   "id": "d9c1bc0f-ba81-4530-8ccf-5197629adbf1",
   "metadata": {},
   "outputs": [
    {
     "data": {
      "text/plain": [
       "[1, 2, 3, 4, 'Chennai', False, 10.5]"
      ]
     },
     "execution_count": 83,
     "metadata": {},
     "output_type": "execute_result"
    }
   ],
   "source": [
    "my_list"
   ]
  },
  {
   "cell_type": "code",
   "execution_count": 97,
   "id": "376c3db1-1863-4f30-a499-7d3011dc1e3e",
   "metadata": {},
   "outputs": [],
   "source": [
    "my_list2 = [2, 49095 ,56, 57, 1, 24.5, 878349]"
   ]
  },
  {
   "cell_type": "code",
   "execution_count": 98,
   "id": "47024310-bf91-4631-abbe-f5bd7a6f84d1",
   "metadata": {},
   "outputs": [
    {
     "data": {
      "text/plain": [
       "[2, 49095, 56, 57, 1, 24.5, 878349]"
      ]
     },
     "execution_count": 98,
     "metadata": {},
     "output_type": "execute_result"
    }
   ],
   "source": [
    "my_list2"
   ]
  },
  {
   "cell_type": "code",
   "execution_count": 102,
   "id": "be2405d5-a229-4c10-a403-ddaec0d83245",
   "metadata": {},
   "outputs": [],
   "source": [
    "my_list2.sort(reverse=True)"
   ]
  },
  {
   "cell_type": "code",
   "execution_count": 103,
   "id": "a8feb91a-9f05-443e-9a6a-87dd6ba9b826",
   "metadata": {},
   "outputs": [
    {
     "data": {
      "text/plain": [
       "[878349, 49095, 57, 56, 24.5, 2, 1]"
      ]
     },
     "execution_count": 103,
     "metadata": {},
     "output_type": "execute_result"
    }
   ],
   "source": [
    "my_list2"
   ]
  },
  {
   "cell_type": "code",
   "execution_count": 95,
   "id": "0f65ab04-bb9c-46d2-9a87-76f0e1702a72",
   "metadata": {},
   "outputs": [
    {
     "data": {
      "text/plain": [
       "[1, 2, 3, 4, 'coimbatore', False]"
      ]
     },
     "execution_count": 95,
     "metadata": {},
     "output_type": "execute_result"
    }
   ],
   "source": [
    "my_list"
   ]
  },
  {
   "cell_type": "code",
   "execution_count": 104,
   "id": "75db1a44-984a-4e8d-97aa-35a2f30573f9",
   "metadata": {},
   "outputs": [
    {
     "name": "stdout",
     "output_type": "stream",
     "text": [
      "[1, 2, 3, 4, 'coimbatore', False]\n"
     ]
    }
   ],
   "source": [
    "print(my_list)"
   ]
  },
  {
   "cell_type": "code",
   "execution_count": 116,
   "id": "74bd50e4-0200-4b59-be64-36c3c29cc396",
   "metadata": {},
   "outputs": [
    {
     "data": {
      "text/plain": [
       "[1, 2, 3, 4, 'coimbatore']"
      ]
     },
     "execution_count": 116,
     "metadata": {},
     "output_type": "execute_result"
    }
   ],
   "source": [
    "my_list[0:-1]"
   ]
  },
  {
   "cell_type": "code",
   "execution_count": 120,
   "id": "117d7fa3-afb7-4e3f-ab42-3a3ff8d4516b",
   "metadata": {},
   "outputs": [],
   "source": [
    "my_list = (\"dinesh\" , 2, 3, 4, 5)"
   ]
  },
  {
   "cell_type": "code",
   "execution_count": 121,
   "id": "8e41f23f-de0a-4e68-b13d-e442e1b587c1",
   "metadata": {},
   "outputs": [
    {
     "data": {
      "text/plain": [
       "tuple"
      ]
     },
     "execution_count": 121,
     "metadata": {},
     "output_type": "execute_result"
    }
   ],
   "source": [
    "type(my_list)"
   ]
  },
  {
   "cell_type": "code",
   "execution_count": 122,
   "id": "ce7672f1-0cbe-4f8a-bd71-322bae47f955",
   "metadata": {},
   "outputs": [
    {
     "data": {
      "text/plain": [
       "'dinesh'"
      ]
     },
     "execution_count": 122,
     "metadata": {},
     "output_type": "execute_result"
    }
   ],
   "source": [
    "my_list[0]"
   ]
  },
  {
   "cell_type": "code",
   "execution_count": 124,
   "id": "03e6e9df-1dd7-42bb-9006-3fcf673a638e",
   "metadata": {},
   "outputs": [
    {
     "data": {
      "text/plain": [
       "2"
      ]
     },
     "execution_count": 124,
     "metadata": {},
     "output_type": "execute_result"
    }
   ],
   "source": [
    "my_list[1]"
   ]
  },
  {
   "cell_type": "code",
   "execution_count": 125,
   "id": "bdd52899-7ef8-4a9d-ab53-214675f017b3",
   "metadata": {},
   "outputs": [
    {
     "data": {
      "text/plain": [
       "(2, 3)"
      ]
     },
     "execution_count": 125,
     "metadata": {},
     "output_type": "execute_result"
    }
   ],
   "source": [
    "my_list[1:3]"
   ]
  },
  {
   "cell_type": "code",
   "execution_count": 126,
   "id": "eb4614e4-1fb4-4b08-8828-34be38d9e956",
   "metadata": {},
   "outputs": [
    {
     "ename": "AttributeError",
     "evalue": "'tuple' object has no attribute 'append'",
     "output_type": "error",
     "traceback": [
      "\u001b[1;31m---------------------------------------------------------------------------\u001b[0m",
      "\u001b[1;31mAttributeError\u001b[0m                            Traceback (most recent call last)",
      "Cell \u001b[1;32mIn[126], line 1\u001b[0m\n\u001b[1;32m----> 1\u001b[0m \u001b[43mmy_list\u001b[49m\u001b[38;5;241;43m.\u001b[39;49m\u001b[43mappend\u001b[49m(\u001b[38;5;124m\"\u001b[39m\u001b[38;5;124mTrichy\u001b[39m\u001b[38;5;124m\"\u001b[39m)\n",
      "\u001b[1;31mAttributeError\u001b[0m: 'tuple' object has no attribute 'append'"
     ]
    }
   ],
   "source": [
    "my_list.append(\"Trichy\")"
   ]
  },
  {
   "cell_type": "code",
   "execution_count": null,
   "id": "57603971-e499-4d94-9348-7cafa51f94b5",
   "metadata": {},
   "outputs": [],
   "source": [
    "#  dictionary --> key:value pair"
   ]
  },
  {
   "cell_type": "code",
   "execution_count": 128,
   "id": "f8095e33-6653-46e1-b03d-9d8f21507cbb",
   "metadata": {},
   "outputs": [],
   "source": [
    "my_dict = {\"my_name\":\"Dineshkumar\", \"Address\":\"Madurai\", \"House_Number\":103}"
   ]
  },
  {
   "cell_type": "code",
   "execution_count": 129,
   "id": "09714869-4424-4735-adfa-3f7c20ad67fa",
   "metadata": {},
   "outputs": [
    {
     "data": {
      "text/plain": [
       "{'my_name': 'Dineshkumar', 'Address': 'Madurai', 'House_Number': 103}"
      ]
     },
     "execution_count": 129,
     "metadata": {},
     "output_type": "execute_result"
    }
   ],
   "source": [
    "my_dict"
   ]
  },
  {
   "cell_type": "code",
   "execution_count": 130,
   "id": "93d1a05a-dd87-43d2-978a-85ff535bbac8",
   "metadata": {},
   "outputs": [
    {
     "data": {
      "text/plain": [
       "dict_keys(['my_name', 'Address', 'House_Number'])"
      ]
     },
     "execution_count": 130,
     "metadata": {},
     "output_type": "execute_result"
    }
   ],
   "source": [
    "my_dict.keys()"
   ]
  },
  {
   "cell_type": "code",
   "execution_count": 131,
   "id": "e53eb7b0-7d70-4742-98e2-81cf8a0dfbc6",
   "metadata": {},
   "outputs": [
    {
     "data": {
      "text/plain": [
       "dict_values(['Dineshkumar', 'Madurai', 103])"
      ]
     },
     "execution_count": 131,
     "metadata": {},
     "output_type": "execute_result"
    }
   ],
   "source": [
    "my_dict.values()"
   ]
  },
  {
   "cell_type": "code",
   "execution_count": 135,
   "id": "9dc9b7e7-5041-4de7-9869-fd3929d11730",
   "metadata": {},
   "outputs": [
    {
     "data": {
      "text/plain": [
       "103"
      ]
     },
     "execution_count": 135,
     "metadata": {},
     "output_type": "execute_result"
    }
   ],
   "source": [
    "# my_list[0]\n",
    "\n",
    "my_dict[\"House_Number\"]"
   ]
  },
  {
   "cell_type": "code",
   "execution_count": 136,
   "id": "4dfbf113-dd02-47a0-8ac4-476290959912",
   "metadata": {},
   "outputs": [
    {
     "data": {
      "text/plain": [
       "103"
      ]
     },
     "execution_count": 136,
     "metadata": {},
     "output_type": "execute_result"
    }
   ],
   "source": [
    "my_dict.get(\"House_Number\")"
   ]
  },
  {
   "cell_type": "code",
   "execution_count": 137,
   "id": "6a7629a0-f059-4efb-96aa-232d6f1d7791",
   "metadata": {},
   "outputs": [
    {
     "data": {
      "text/plain": [
       "{'my_name': 'Dineshkumar', 'Address': 'Madurai', 'House_Number': 103}"
      ]
     },
     "execution_count": 137,
     "metadata": {},
     "output_type": "execute_result"
    }
   ],
   "source": [
    "my_dict"
   ]
  },
  {
   "cell_type": "code",
   "execution_count": 138,
   "id": "3d2f7c88-b5b6-4ed5-b3ba-bf4e8096fc90",
   "metadata": {},
   "outputs": [],
   "source": [
    "my_dict[\"Age\"] = 27"
   ]
  },
  {
   "cell_type": "code",
   "execution_count": 139,
   "id": "f80e5bd2-05f6-46a3-8ac0-8b538ec89b74",
   "metadata": {},
   "outputs": [
    {
     "data": {
      "text/plain": [
       "{'my_name': 'Dineshkumar',\n",
       " 'Address': 'Madurai',\n",
       " 'House_Number': 103,\n",
       " 'Age': 27}"
      ]
     },
     "execution_count": 139,
     "metadata": {},
     "output_type": "execute_result"
    }
   ],
   "source": [
    "my_dict"
   ]
  },
  {
   "cell_type": "code",
   "execution_count": 140,
   "id": "d492ed65-16a9-45c1-8cef-26d6617d6575",
   "metadata": {},
   "outputs": [
    {
     "data": {
      "text/plain": [
       "27"
      ]
     },
     "execution_count": 140,
     "metadata": {},
     "output_type": "execute_result"
    }
   ],
   "source": [
    "my_dict[\"Age\"]"
   ]
  },
  {
   "cell_type": "code",
   "execution_count": 141,
   "id": "856abdff-6fd8-4dd5-9a12-cbd0e7472eb5",
   "metadata": {},
   "outputs": [
    {
     "data": {
      "text/plain": [
       "27"
      ]
     },
     "execution_count": 141,
     "metadata": {},
     "output_type": "execute_result"
    }
   ],
   "source": [
    "my_dict.get(\"Age\")"
   ]
  },
  {
   "cell_type": "code",
   "execution_count": 164,
   "id": "2d07c9e8-07da-4544-ad64-6d80e713f766",
   "metadata": {},
   "outputs": [],
   "source": [
    "my_set = {1, 2, 3, 4, 4, \"Dinesh\", \"Dinesh\"}"
   ]
  },
  {
   "cell_type": "code",
   "execution_count": 165,
   "id": "eb843e40-ac7d-429a-96ba-bc168f9f103b",
   "metadata": {},
   "outputs": [
    {
     "data": {
      "text/plain": [
       "{1, 2, 3, 4, 'Dinesh'}"
      ]
     },
     "execution_count": 165,
     "metadata": {},
     "output_type": "execute_result"
    }
   ],
   "source": [
    "my_set"
   ]
  },
  {
   "cell_type": "code",
   "execution_count": 166,
   "id": "2b6e2ac7-fc6c-48ca-b056-a554155ae979",
   "metadata": {},
   "outputs": [],
   "source": [
    "my_set.add(\"Kumar\")"
   ]
  },
  {
   "cell_type": "code",
   "execution_count": 167,
   "id": "21b3db9f-7f77-4d60-a26f-8a13234ce881",
   "metadata": {},
   "outputs": [
    {
     "data": {
      "text/plain": [
       "{1, 2, 3, 4, 'Dinesh', 'Kumar'}"
      ]
     },
     "execution_count": 167,
     "metadata": {},
     "output_type": "execute_result"
    }
   ],
   "source": [
    "my_set"
   ]
  },
  {
   "cell_type": "code",
   "execution_count": 168,
   "id": "8531fd02-be40-410b-b739-ef19f22d086f",
   "metadata": {},
   "outputs": [],
   "source": [
    "my_set.add(\"Kumar\")"
   ]
  },
  {
   "cell_type": "code",
   "execution_count": 160,
   "id": "78038441-d1a6-40f8-be36-0f81590a7582",
   "metadata": {},
   "outputs": [
    {
     "data": {
      "text/plain": [
       "{1, 2, 3, 'D', 'Dinesh', 'K', 'a', 'e', 'h', 'i', 'm', 'n', 'r', 's', 'u'}"
      ]
     },
     "execution_count": 160,
     "metadata": {},
     "output_type": "execute_result"
    }
   ],
   "source": [
    "my_set"
   ]
  },
  {
   "cell_type": "code",
   "execution_count": 161,
   "id": "952ae4ee-7a0e-4da2-b172-da322a436c22",
   "metadata": {},
   "outputs": [
    {
     "ename": "KeyError",
     "evalue": "'Kumar'",
     "output_type": "error",
     "traceback": [
      "\u001b[1;31m---------------------------------------------------------------------------\u001b[0m",
      "\u001b[1;31mKeyError\u001b[0m                                  Traceback (most recent call last)",
      "Cell \u001b[1;32mIn[161], line 1\u001b[0m\n\u001b[1;32m----> 1\u001b[0m \u001b[43mmy_set\u001b[49m\u001b[38;5;241;43m.\u001b[39;49m\u001b[43mremove\u001b[49m\u001b[43m(\u001b[49m\u001b[38;5;124;43m\"\u001b[39;49m\u001b[38;5;124;43mKumar\u001b[39;49m\u001b[38;5;124;43m\"\u001b[39;49m\u001b[43m)\u001b[49m\n",
      "\u001b[1;31mKeyError\u001b[0m: 'Kumar'"
     ]
    }
   ],
   "source": [
    "my_set.remove(\"Kumar\")"
   ]
  },
  {
   "cell_type": "code",
   "execution_count": 162,
   "id": "e9eadca0-ba4f-4fc7-b997-b6838f43ea97",
   "metadata": {},
   "outputs": [
    {
     "data": {
      "text/plain": [
       "{1, 2, 3, 'D', 'Dinesh', 'K', 'a', 'e', 'h', 'i', 'm', 'n', 'r', 's', 'u'}"
      ]
     },
     "execution_count": 162,
     "metadata": {},
     "output_type": "execute_result"
    }
   ],
   "source": [
    "my_set"
   ]
  },
  {
   "cell_type": "code",
   "execution_count": 163,
   "id": "55bccb35-ce6f-4433-9239-ebdce2375c44",
   "metadata": {},
   "outputs": [
    {
     "ename": "KeyError",
     "evalue": "4",
     "output_type": "error",
     "traceback": [
      "\u001b[1;31m---------------------------------------------------------------------------\u001b[0m",
      "\u001b[1;31mKeyError\u001b[0m                                  Traceback (most recent call last)",
      "Cell \u001b[1;32mIn[163], line 1\u001b[0m\n\u001b[1;32m----> 1\u001b[0m \u001b[43mmy_set\u001b[49m\u001b[38;5;241;43m.\u001b[39;49m\u001b[43mremove\u001b[49m\u001b[43m(\u001b[49m\u001b[38;5;241;43m4\u001b[39;49m\u001b[43m)\u001b[49m\n",
      "\u001b[1;31mKeyError\u001b[0m: 4"
     ]
    }
   ],
   "source": [
    "my_set.remove(4)"
   ]
  },
  {
   "cell_type": "code",
   "execution_count": 171,
   "id": "358dbfd9-33d7-4ac4-8f47-c1236d0412d6",
   "metadata": {},
   "outputs": [
    {
     "data": {
      "text/plain": [
       "{1, 2, 3, 4, 'Dinesh', 'Karan', 'Kumar', 'Raju'}"
      ]
     },
     "execution_count": 171,
     "metadata": {},
     "output_type": "execute_result"
    }
   ],
   "source": [
    "my_set"
   ]
  },
  {
   "cell_type": "code",
   "execution_count": 170,
   "id": "3cec17bd-b93b-4d28-8074-cc6906d19cfb",
   "metadata": {},
   "outputs": [],
   "source": [
    "my_set.update({\"Raju\", \"Karan\"})"
   ]
  },
  {
   "cell_type": "code",
   "execution_count": 172,
   "id": "10a5db80-f5be-4a75-847d-5d6978fb56cb",
   "metadata": {},
   "outputs": [
    {
     "data": {
      "text/plain": [
       "{1, 2, 3, 4, 'Dinesh', 'Karan', 'Kumar', 'Raju'}"
      ]
     },
     "execution_count": 172,
     "metadata": {},
     "output_type": "execute_result"
    }
   ],
   "source": [
    "my_set"
   ]
  },
  {
   "cell_type": "markdown",
   "id": "9990d0f5-072c-4b71-88bd-d9fdf74fe995",
   "metadata": {},
   "source": [
    "### range"
   ]
  },
  {
   "cell_type": "code",
   "execution_count": 14,
   "id": "c8c5981c-b899-49fd-a001-3d97e1b27457",
   "metadata": {},
   "outputs": [],
   "source": [
    "my_numbers = range(2,10,3)"
   ]
  },
  {
   "cell_type": "code",
   "execution_count": 15,
   "id": "9892c1a2-59db-40ce-b6ee-672d0aef9034",
   "metadata": {},
   "outputs": [
    {
     "data": {
      "text/plain": [
       "range(2, 10, 3)"
      ]
     },
     "execution_count": 15,
     "metadata": {},
     "output_type": "execute_result"
    }
   ],
   "source": [
    "my_numbers"
   ]
  },
  {
   "cell_type": "code",
   "execution_count": 16,
   "id": "54c8ca16-70c7-4921-a0cf-e7dfb154612d",
   "metadata": {},
   "outputs": [
    {
     "data": {
      "text/plain": [
       "[2, 5, 8]"
      ]
     },
     "execution_count": 16,
     "metadata": {},
     "output_type": "execute_result"
    }
   ],
   "source": [
    "list(my_numbers)"
   ]
  },
  {
   "cell_type": "markdown",
   "id": "a603d51d-9730-4c0b-825b-007c5951690b",
   "metadata": {},
   "source": [
    "### iterators"
   ]
  },
  {
   "cell_type": "code",
   "execution_count": 18,
   "id": "8a745713-1a36-4992-a2e6-f70a2faa3de2",
   "metadata": {},
   "outputs": [],
   "source": [
    "my_numbers = range(1, 11)"
   ]
  },
  {
   "cell_type": "code",
   "execution_count": 19,
   "id": "1c79f2ee-85be-41b4-9ef3-aae3b7b7a388",
   "metadata": {},
   "outputs": [
    {
     "data": {
      "text/plain": [
       "range(1, 11)"
      ]
     },
     "execution_count": 19,
     "metadata": {},
     "output_type": "execute_result"
    }
   ],
   "source": [
    "my_numbers"
   ]
  },
  {
   "cell_type": "code",
   "execution_count": 22,
   "id": "47cc7f30-d9cd-4bfe-8ac9-d07dcc4fbbce",
   "metadata": {},
   "outputs": [],
   "source": [
    "my_list = list(my_numbers)"
   ]
  },
  {
   "cell_type": "code",
   "execution_count": 24,
   "id": "589ced7e-0b19-4be3-84c4-61639f0033af",
   "metadata": {},
   "outputs": [
    {
     "data": {
      "text/plain": [
       "[1, 2, 3, 4, 5, 6, 7, 8, 9, 10]"
      ]
     },
     "execution_count": 24,
     "metadata": {},
     "output_type": "execute_result"
    }
   ],
   "source": [
    "my_list"
   ]
  },
  {
   "cell_type": "code",
   "execution_count": 32,
   "id": "692da76b-0545-420f-9136-d13ec1ca47f8",
   "metadata": {},
   "outputs": [],
   "source": [
    "iter_obj = iter(my_list)"
   ]
  },
  {
   "cell_type": "code",
   "execution_count": 33,
   "id": "d2955fdd-7b2b-45df-a804-15ca2f15c37c",
   "metadata": {},
   "outputs": [
    {
     "data": {
      "text/plain": [
       "<list_iterator at 0x15f068a81f0>"
      ]
     },
     "execution_count": 33,
     "metadata": {},
     "output_type": "execute_result"
    }
   ],
   "source": [
    "iter_obj"
   ]
  },
  {
   "cell_type": "code",
   "execution_count": 34,
   "id": "80a3f33c-e443-4d12-b353-b0364514ea22",
   "metadata": {},
   "outputs": [
    {
     "name": "stdout",
     "output_type": "stream",
     "text": [
      "1\n"
     ]
    }
   ],
   "source": [
    "print(next(iter_obj))"
   ]
  },
  {
   "cell_type": "code",
   "execution_count": 44,
   "id": "22324336-620b-4f8d-a111-2f7eefcc6988",
   "metadata": {},
   "outputs": [
    {
     "ename": "StopIteration",
     "evalue": "",
     "output_type": "error",
     "traceback": [
      "\u001b[1;31m---------------------------------------------------------------------------\u001b[0m",
      "\u001b[1;31mStopIteration\u001b[0m                             Traceback (most recent call last)",
      "Cell \u001b[1;32mIn[44], line 1\u001b[0m\n\u001b[1;32m----> 1\u001b[0m \u001b[38;5;28mprint\u001b[39m(\u001b[38;5;28;43mnext\u001b[39;49m\u001b[43m(\u001b[49m\u001b[43miter_obj\u001b[49m\u001b[43m)\u001b[49m)\n",
      "\u001b[1;31mStopIteration\u001b[0m: "
     ]
    }
   ],
   "source": [
    "print(next(iter_obj))"
   ]
  },
  {
   "cell_type": "code",
   "execution_count": 45,
   "id": "90440f7f-039a-467f-8c28-0e5d3cf3e676",
   "metadata": {},
   "outputs": [],
   "source": [
    "def add_two_numbers(a, b):\n",
    "    c = a+b\n",
    "    print(c)"
   ]
  },
  {
   "cell_type": "code",
   "execution_count": 46,
   "id": "78fde78b-7272-4b16-b745-e819ded49deb",
   "metadata": {},
   "outputs": [
    {
     "name": "stdout",
     "output_type": "stream",
     "text": [
      "12\n"
     ]
    }
   ],
   "source": [
    "add_two_numbers(3, 9)"
   ]
  },
  {
   "cell_type": "code",
   "execution_count": 47,
   "id": "26352c7a-ec00-4e80-9302-b6bce480b63f",
   "metadata": {},
   "outputs": [],
   "source": [
    "def my_generator(x):\n",
    "    for i in range(0, x):\n",
    "        yield(i)"
   ]
  },
  {
   "cell_type": "code",
   "execution_count": 48,
   "id": "b851f8a2-cfb3-4c5b-b1af-1c1d54194367",
   "metadata": {},
   "outputs": [],
   "source": [
    "iter_obj = my_generator(7)"
   ]
  },
  {
   "cell_type": "code",
   "execution_count": 56,
   "id": "c1b742c5-c0b0-47ad-aeb3-66f4a5be07e7",
   "metadata": {},
   "outputs": [
    {
     "ename": "StopIteration",
     "evalue": "",
     "output_type": "error",
     "traceback": [
      "\u001b[1;31m---------------------------------------------------------------------------\u001b[0m",
      "\u001b[1;31mStopIteration\u001b[0m                             Traceback (most recent call last)",
      "Cell \u001b[1;32mIn[56], line 1\u001b[0m\n\u001b[1;32m----> 1\u001b[0m \u001b[38;5;28;43mnext\u001b[39;49m\u001b[43m(\u001b[49m\u001b[43miter_obj\u001b[49m\u001b[43m)\u001b[49m\n",
      "\u001b[1;31mStopIteration\u001b[0m: "
     ]
    }
   ],
   "source": [
    "next(iter_obj)"
   ]
  },
  {
   "cell_type": "code",
   "execution_count": null,
   "id": "9d4e7d50-4b24-4198-b244-18ce9b0ebdbd",
   "metadata": {},
   "outputs": [],
   "source": []
  },
  {
   "cell_type": "code",
   "execution_count": 60,
   "id": "5142e74f-7fd6-460f-9098-2b071d214285",
   "metadata": {},
   "outputs": [],
   "source": [
    "x = [1, 2, 3, 4, 5]"
   ]
  },
  {
   "cell_type": "code",
   "execution_count": 58,
   "id": "3cdc97af-e14c-496a-a92e-dce5ff6a5288",
   "metadata": {},
   "outputs": [],
   "source": [
    "x = x * 5"
   ]
  },
  {
   "cell_type": "code",
   "execution_count": 61,
   "id": "9c60c0ca-c8ad-45f7-b84e-bfab34915a9b",
   "metadata": {},
   "outputs": [
    {
     "data": {
      "text/plain": [
       "[1, 2, 3, 4, 5]"
      ]
     },
     "execution_count": 61,
     "metadata": {},
     "output_type": "execute_result"
    }
   ],
   "source": [
    "x"
   ]
  },
  {
   "cell_type": "code",
   "execution_count": 62,
   "id": "caddc351-f119-44d5-b54e-b219623165c8",
   "metadata": {},
   "outputs": [
    {
     "data": {
      "text/plain": [
       "[5, 10, 15, 20, 25]"
      ]
     },
     "execution_count": 62,
     "metadata": {},
     "output_type": "execute_result"
    }
   ],
   "source": [
    "[x*5 for x in x]"
   ]
  },
  {
   "cell_type": "code",
   "execution_count": 63,
   "id": "7a0dac14-4b73-41d7-9d1c-7ee5a67f9713",
   "metadata": {},
   "outputs": [
    {
     "name": "stdout",
     "output_type": "stream",
     "text": [
      "5\n",
      "10\n",
      "15\n",
      "20\n",
      "25\n"
     ]
    }
   ],
   "source": [
    "for x in x:\n",
    "    x = x*5\n",
    "    print(x)"
   ]
  },
  {
   "cell_type": "code",
   "execution_count": null,
   "id": "6d551635-3820-43a3-a271-1a53668a7754",
   "metadata": {},
   "outputs": [],
   "source": [
    "def add_two_numbers(a, b):\n",
    "    c = a+b\n",
    "    print(c)"
   ]
  },
  {
   "cell_type": "code",
   "execution_count": 64,
   "id": "8e6bbbf0-8f5a-4595-8cb7-4ba97191f90c",
   "metadata": {},
   "outputs": [],
   "source": [
    "add_two_numbers = lambda a, b: a+b"
   ]
  },
  {
   "cell_type": "code",
   "execution_count": 65,
   "id": "4ed1110f-0565-4125-814a-dbc64cc5fdf9",
   "metadata": {},
   "outputs": [
    {
     "data": {
      "text/plain": [
       "12"
      ]
     },
     "execution_count": 65,
     "metadata": {},
     "output_type": "execute_result"
    }
   ],
   "source": [
    "add_two_numbers(3, 9)"
   ]
  },
  {
   "cell_type": "code",
   "execution_count": 68,
   "id": "42195528-6c42-4e42-a7bf-973eefc15ff5",
   "metadata": {},
   "outputs": [],
   "source": [
    "with open(\"text_file.txt\", \"w\") as file:\n",
    "    file.write(\"This is my text file generated by python\")"
   ]
  },
  {
   "cell_type": "code",
   "execution_count": 69,
   "id": "ffc68d37-9d73-4972-80bc-ed330cfb19ab",
   "metadata": {},
   "outputs": [],
   "source": [
    "with open(\"text_file.txt\", \"a\") as file:\n",
    "    file.write(\"\\nthis is my second line\")"
   ]
  },
  {
   "cell_type": "code",
   "execution_count": null,
   "id": "6c179fe9-7a2e-4aad-9c36-112c38271274",
   "metadata": {},
   "outputs": [],
   "source": []
  },
  {
   "cell_type": "code",
   "execution_count": 1,
   "id": "39d0a583-5bb6-49bf-b0db-62ca8984f06b",
   "metadata": {},
   "outputs": [
    {
     "name": "stdout",
     "output_type": "stream",
     "text": [
      "line1\n",
      "line2\n",
      "line3\n"
     ]
    }
   ],
   "source": [
    "print(\"line1\")\n",
    "print(\"line2\")\n",
    "print(\"line3\")"
   ]
  },
  {
   "cell_type": "code",
   "execution_count": 4,
   "id": "0759a893-e275-46b6-a1e5-a0ce3ad45765",
   "metadata": {},
   "outputs": [
    {
     "name": "stdout",
     "output_type": "stream",
     "text": [
      "line1\n",
      "line3\n"
     ]
    }
   ],
   "source": [
    "a = 6\n",
    "print(\"line1\")\n",
    "if a==5:\n",
    "    print(\"line2\")\n",
    "print(\"line3\")"
   ]
  },
  {
   "cell_type": "code",
   "execution_count": 12,
   "id": "d4e2d8b7-0afe-414b-84e3-2dbc679607e6",
   "metadata": {},
   "outputs": [
    {
     "name": "stdout",
     "output_type": "stream",
     "text": [
      "0\n",
      "both are equal\n",
      "completed\n"
     ]
    }
   ],
   "source": [
    "a = 10\n",
    "b = 10\n",
    "\n",
    "if a>b:\n",
    "    print(a-b)\n",
    "    print(\"first condition\")\n",
    "elif a==b:\n",
    "    print(a-b)\n",
    "    print(\"both are equal\")\n",
    "else:\n",
    "    print(b-a)\n",
    "    print(\"third condition\")\n",
    "\n",
    "print(\"completed\")"
   ]
  },
  {
   "cell_type": "code",
   "execution_count": 13,
   "id": "75a65274-1436-4e07-8fc9-8a148263ab5a",
   "metadata": {},
   "outputs": [],
   "source": [
    "my_list = [1, 3, 5, 10, 45]"
   ]
  },
  {
   "cell_type": "code",
   "execution_count": 14,
   "id": "2bfa82ee-81c2-4953-b810-eabd0e02438f",
   "metadata": {},
   "outputs": [
    {
     "data": {
      "text/plain": [
       "[1, 3, 5, 10, 45]"
      ]
     },
     "execution_count": 14,
     "metadata": {},
     "output_type": "execute_result"
    }
   ],
   "source": [
    "my_list"
   ]
  },
  {
   "cell_type": "code",
   "execution_count": 15,
   "id": "8b57ccb5-c98a-4278-8490-4cf7a72c7427",
   "metadata": {},
   "outputs": [
    {
     "data": {
      "text/plain": [
       "5"
      ]
     },
     "execution_count": 15,
     "metadata": {},
     "output_type": "execute_result"
    }
   ],
   "source": [
    "len(my_list)"
   ]
  },
  {
   "cell_type": "code",
   "execution_count": 18,
   "id": "deb393c7-0b08-4b8c-9c67-b78f5d0d8c84",
   "metadata": {},
   "outputs": [
    {
     "name": "stdout",
     "output_type": "stream",
     "text": [
      "5\n",
      "10\n",
      "45\n"
     ]
    }
   ],
   "source": [
    "for i in my_list:\n",
    "    if i>=5:\n",
    "        print(i)"
   ]
  },
  {
   "cell_type": "code",
   "execution_count": 19,
   "id": "4c1485d5-abe9-4ab6-90d1-088e53fa0f51",
   "metadata": {},
   "outputs": [
    {
     "data": {
      "text/plain": [
       "17"
      ]
     },
     "execution_count": 19,
     "metadata": {},
     "output_type": "execute_result"
    }
   ],
   "source": [
    "8 + 9"
   ]
  },
  {
   "cell_type": "code",
   "execution_count": 20,
   "id": "b38aa9f1-561c-41fc-aa14-4af75f79da7d",
   "metadata": {},
   "outputs": [
    {
     "data": {
      "text/plain": [
       "-19"
      ]
     },
     "execution_count": 20,
     "metadata": {},
     "output_type": "execute_result"
    }
   ],
   "source": [
    "9-28"
   ]
  },
  {
   "cell_type": "code",
   "execution_count": 22,
   "id": "3dfd8161-7169-4ea3-ae48-3f86fe4e06d5",
   "metadata": {},
   "outputs": [
    {
     "data": {
      "text/plain": [
       "1"
      ]
     },
     "execution_count": 22,
     "metadata": {},
     "output_type": "execute_result"
    }
   ],
   "source": [
    "10%3"
   ]
  },
  {
   "cell_type": "code",
   "execution_count": null,
   "id": "ed1087db-b86b-41a4-b29d-2132b186f2c8",
   "metadata": {},
   "outputs": [],
   "source": [
    "<, >, <=, >=, ==, !="
   ]
  },
  {
   "cell_type": "code",
   "execution_count": 34,
   "id": "381e308e-4658-4b28-9720-deccf3c2332a",
   "metadata": {},
   "outputs": [],
   "source": [
    "a = 5\n",
    "b = 6"
   ]
  },
  {
   "cell_type": "code",
   "execution_count": 30,
   "id": "0f32504b-0063-4601-8e2e-c90fb886a5a6",
   "metadata": {},
   "outputs": [],
   "source": [
    "if (a==5) or (b==5):\n",
    "    print (\"values checked\")"
   ]
  },
  {
   "cell_type": "code",
   "execution_count": null,
   "id": "51ce1e70-a5b3-424c-9add-cf1427f159c8",
   "metadata": {},
   "outputs": [],
   "source": [
    "# True or True = True\n",
    "# True or False = True\n",
    "# False or True = True\n",
    "# False or False = False"
   ]
  },
  {
   "cell_type": "code",
   "execution_count": 35,
   "id": "2dd018d3-839d-4405-b636-d68aafe5a9f3",
   "metadata": {},
   "outputs": [],
   "source": [
    "if (a==5) and (b==5):\n",
    "    print (\"values checked\")"
   ]
  },
  {
   "cell_type": "code",
   "execution_count": 36,
   "id": "8f349b71-5178-4015-93a4-0c30e22ae31e",
   "metadata": {},
   "outputs": [],
   "source": [
    "# True and True = True\n",
    "# True and False = False\n",
    "# False and True = False\n",
    "# False and False = False"
   ]
  },
  {
   "cell_type": "code",
   "execution_count": 37,
   "id": "a50ec147-3193-416e-ab6a-60764443c22b",
   "metadata": {},
   "outputs": [],
   "source": [
    "# NOT"
   ]
  },
  {
   "cell_type": "code",
   "execution_count": 38,
   "id": "5c842857-2cd0-4bef-9399-01180415fa17",
   "metadata": {},
   "outputs": [],
   "source": [
    "# True --> False\n",
    "# False --> True"
   ]
  },
  {
   "cell_type": "code",
   "execution_count": 39,
   "id": "3c0ad97a-8fdf-4fa4-9d11-a2947a348ecb",
   "metadata": {},
   "outputs": [
    {
     "data": {
      "text/plain": [
       "False"
      ]
     },
     "execution_count": 39,
     "metadata": {},
     "output_type": "execute_result"
    }
   ],
   "source": [
    "not(True)"
   ]
  },
  {
   "cell_type": "code",
   "execution_count": 41,
   "id": "94bc59da-6c7e-495d-bed2-e649b099eee3",
   "metadata": {},
   "outputs": [
    {
     "data": {
      "text/plain": [
       "False"
      ]
     },
     "execution_count": 41,
     "metadata": {},
     "output_type": "execute_result"
    }
   ],
   "source": [
    "not(5==5)"
   ]
  },
  {
   "cell_type": "code",
   "execution_count": 42,
   "id": "a5de356e-668d-429c-920c-3fb8c3795ace",
   "metadata": {},
   "outputs": [],
   "source": [
    "a = 5"
   ]
  },
  {
   "cell_type": "code",
   "execution_count": 43,
   "id": "c6d0d417-bf05-46d0-9910-199f01ddc72e",
   "metadata": {},
   "outputs": [
    {
     "name": "stdout",
     "output_type": "stream",
     "text": [
      "6\n"
     ]
    }
   ],
   "source": [
    "a = a+1\n",
    "print(a)"
   ]
  },
  {
   "cell_type": "code",
   "execution_count": 46,
   "id": "621ddf7d-466f-4db3-8f5f-ee42bcb32537",
   "metadata": {},
   "outputs": [
    {
     "ename": "SyntaxError",
     "evalue": "invalid syntax (1084821174.py, line 1)",
     "output_type": "error",
     "traceback": [
      "\u001b[1;36m  Cell \u001b[1;32mIn[46], line 1\u001b[1;36m\u001b[0m\n\u001b[1;33m    print(a+=1)\u001b[0m\n\u001b[1;37m           ^\u001b[0m\n\u001b[1;31mSyntaxError\u001b[0m\u001b[1;31m:\u001b[0m invalid syntax\n"
     ]
    }
   ],
   "source": [
    "print(a+=1)"
   ]
  },
  {
   "cell_type": "code",
   "execution_count": 47,
   "id": "e10a6072-611d-4a7f-ab7e-5ce917fcebcd",
   "metadata": {},
   "outputs": [],
   "source": [
    "a = a+1"
   ]
  },
  {
   "cell_type": "code",
   "execution_count": 51,
   "id": "cdf26fd2-d531-4998-b888-cdedeb11b40c",
   "metadata": {},
   "outputs": [],
   "source": [
    "a = 9"
   ]
  },
  {
   "cell_type": "code",
   "execution_count": 52,
   "id": "c023bc23-b321-4490-8cb8-7780257324d5",
   "metadata": {},
   "outputs": [],
   "source": [
    "a+=1"
   ]
  },
  {
   "cell_type": "code",
   "execution_count": 53,
   "id": "02872aed-a758-43f1-9696-b98c7070681b",
   "metadata": {},
   "outputs": [
    {
     "data": {
      "text/plain": [
       "10"
      ]
     },
     "execution_count": 53,
     "metadata": {},
     "output_type": "execute_result"
    }
   ],
   "source": [
    "a"
   ]
  },
  {
   "cell_type": "code",
   "execution_count": 54,
   "id": "e138d186-3548-4a7b-a9e3-abb0dcb01a5a",
   "metadata": {},
   "outputs": [],
   "source": [
    "my_details = [\"Dinesh\", \"Madurai\", 27, \"AI Engineer\"]"
   ]
  },
  {
   "cell_type": "code",
   "execution_count": 55,
   "id": "2e0f97bf-d8bf-4a48-811d-f27f3c622e66",
   "metadata": {},
   "outputs": [
    {
     "data": {
      "text/plain": [
       "['Dinesh', 'Madurai', 27, 'AI Engineer']"
      ]
     },
     "execution_count": 55,
     "metadata": {},
     "output_type": "execute_result"
    }
   ],
   "source": [
    "my_details"
   ]
  },
  {
   "cell_type": "code",
   "execution_count": 56,
   "id": "1fa752d4-07a6-4004-ae7a-2f0716c86367",
   "metadata": {},
   "outputs": [
    {
     "name": "stdout",
     "output_type": "stream",
     "text": [
      "Dinesh\n",
      "Madurai\n",
      "27\n",
      "AI Engineer\n"
     ]
    }
   ],
   "source": [
    "for i in my_details:\n",
    "    print(i)"
   ]
  },
  {
   "cell_type": "code",
   "execution_count": 57,
   "id": "14ebf4ec-0776-4667-8d1e-b268a9b85998",
   "metadata": {},
   "outputs": [],
   "source": [
    "# while"
   ]
  },
  {
   "cell_type": "code",
   "execution_count": null,
   "id": "46c18fdb-0e8b-4835-a611-82a812075302",
   "metadata": {},
   "outputs": [],
   "source": []
  },
  {
   "cell_type": "code",
   "execution_count": 59,
   "id": "ad24c40e-db79-4694-a4d0-19418b6cc21b",
   "metadata": {},
   "outputs": [],
   "source": [
    "# while True:\n",
    "#     print(\"start printing\")"
   ]
  },
  {
   "cell_type": "code",
   "execution_count": 65,
   "id": "b7e78a49-1972-4dfc-89ec-c39a2a928a90",
   "metadata": {},
   "outputs": [
    {
     "name": "stdout",
     "output_type": "stream",
     "text": [
      "3\n",
      "6\n",
      "9\n",
      "12\n"
     ]
    }
   ],
   "source": [
    "# my_list = [1, 2,3, 45, 45, 894]\n",
    "\n",
    "a = 0\n",
    "\n",
    "while a<10:\n",
    "    a = a+3\n",
    "    print(a)"
   ]
  },
  {
   "cell_type": "code",
   "execution_count": 68,
   "id": "c2492abb-af34-4114-917a-d90292a78862",
   "metadata": {},
   "outputs": [],
   "source": [
    "my_list = list(range(0, 6))\n"
   ]
  },
  {
   "cell_type": "code",
   "execution_count": 69,
   "id": "0b285be6-f1d7-4cae-ba29-97d84ef817f3",
   "metadata": {},
   "outputs": [
    {
     "data": {
      "text/plain": [
       "[0, 1, 2, 3, 4, 5]"
      ]
     },
     "execution_count": 69,
     "metadata": {},
     "output_type": "execute_result"
    }
   ],
   "source": [
    "my_list"
   ]
  },
  {
   "cell_type": "code",
   "execution_count": 70,
   "id": "ef2aee1e-6874-48cc-808e-dd90693c2e01",
   "metadata": {},
   "outputs": [
    {
     "data": {
      "text/plain": [
       "list"
      ]
     },
     "execution_count": 70,
     "metadata": {},
     "output_type": "execute_result"
    }
   ],
   "source": [
    "type(my_list)"
   ]
  },
  {
   "cell_type": "code",
   "execution_count": 80,
   "id": "e61137c8-ba04-496b-b4e7-852ed8f9d9a8",
   "metadata": {},
   "outputs": [
    {
     "name": "stdout",
     "output_type": "stream",
     "text": [
      "loop started\n",
      "value from my_list: 0\n",
      "value from my_list: 1\n",
      "value from my_list: 2\n",
      "value from my_list: 3\n",
      "value from my_list: 4\n",
      "value from my_list: 5\n",
      "loop completed\n"
     ]
    }
   ],
   "source": [
    "print(\"loop started\")\n",
    "for i in my_list:\n",
    "    if i==3:\n",
    "        pass\n",
    "    print(\"value from my_list:\", i)\n",
    "print(\"loop completed\")\n",
    "        \n"
   ]
  },
  {
   "cell_type": "code",
   "execution_count": 79,
   "id": "ab750c93-aa9b-4113-b38b-e115b1d85893",
   "metadata": {},
   "outputs": [],
   "source": [
    "def my_function():\n",
    "    pass"
   ]
  },
  {
   "cell_type": "code",
   "execution_count": 83,
   "id": "18cb6eb3-3b6f-4371-a410-4c5b860288f0",
   "metadata": {},
   "outputs": [],
   "source": [
    "addition = lambda a,b:a+b"
   ]
  },
  {
   "cell_type": "code",
   "execution_count": 84,
   "id": "f4f4b4e5-8439-4392-ac65-05fc71471b76",
   "metadata": {},
   "outputs": [
    {
     "data": {
      "text/plain": [
       "68"
      ]
     },
     "execution_count": 84,
     "metadata": {},
     "output_type": "execute_result"
    }
   ],
   "source": [
    "addition(23,45)"
   ]
  },
  {
   "cell_type": "markdown",
   "id": "ec9466ed-86de-464c-8eda-7de4f9372bfd",
   "metadata": {},
   "source": [
    "### Funtion"
   ]
  },
  {
   "cell_type": "code",
   "execution_count": 1,
   "id": "e710cc94-e571-4b69-aa02-6e3af1494f64",
   "metadata": {},
   "outputs": [
    {
     "name": "stdout",
     "output_type": "stream",
     "text": [
      "Python\n"
     ]
    }
   ],
   "source": [
    "print(\"Python\")"
   ]
  },
  {
   "cell_type": "code",
   "execution_count": 5,
   "id": "32e0665f-ac78-4ea6-a4c5-bc9741d60e5d",
   "metadata": {},
   "outputs": [],
   "source": [
    "def my_print_function(x):\n",
    "    print(x)"
   ]
  },
  {
   "cell_type": "code",
   "execution_count": 6,
   "id": "c0a119f4-ae5e-4380-b56a-090da5d7b72b",
   "metadata": {},
   "outputs": [
    {
     "name": "stdout",
     "output_type": "stream",
     "text": [
      "Welcome to Python course\n"
     ]
    }
   ],
   "source": [
    "my_print_function(\"Welcome to Python course\")"
   ]
  },
  {
   "cell_type": "code",
   "execution_count": null,
   "id": "ec191a9e-3774-49ef-a728-38a91f8c65c2",
   "metadata": {},
   "outputs": [],
   "source": []
  },
  {
   "cell_type": "code",
   "execution_count": null,
   "id": "23eb9d2e-e0ea-4318-9d8f-fcf609cd4a15",
   "metadata": {},
   "outputs": [],
   "source": []
  },
  {
   "cell_type": "code",
   "execution_count": 7,
   "id": "a47ed49f-1199-40b4-952b-91f8e3a643d9",
   "metadata": {},
   "outputs": [],
   "source": [
    "def my_name():\n",
    "    print(\"Dinesh\")"
   ]
  },
  {
   "cell_type": "code",
   "execution_count": 13,
   "id": "b9d747df-6dad-4217-8776-5bec9cdb4361",
   "metadata": {},
   "outputs": [],
   "source": [
    "def my_name(x):\n",
    "    print(x)"
   ]
  },
  {
   "cell_type": "code",
   "execution_count": 14,
   "id": "3f34c9fe-4713-42d5-a1c8-6fa0d4e9a5d1",
   "metadata": {},
   "outputs": [
    {
     "name": "stdout",
     "output_type": "stream",
     "text": [
      "Kumar\n"
     ]
    }
   ],
   "source": [
    "my_name(\"Kumar\")"
   ]
  },
  {
   "cell_type": "code",
   "execution_count": 16,
   "id": "2439400a-9003-4a88-b3f3-c43abac9e830",
   "metadata": {},
   "outputs": [],
   "source": [
    "num = range(0,5)"
   ]
  },
  {
   "cell_type": "code",
   "execution_count": 17,
   "id": "15fad35d-b1b2-4346-b4b7-45394788ee6c",
   "metadata": {},
   "outputs": [
    {
     "data": {
      "text/plain": [
       "str"
      ]
     },
     "execution_count": 17,
     "metadata": {},
     "output_type": "execute_result"
    }
   ],
   "source": [
    "type(\"Dinesh\")"
   ]
  },
  {
   "cell_type": "code",
   "execution_count": null,
   "id": "6c97c4cf-b9ae-4142-a728-6f391cb8802c",
   "metadata": {},
   "outputs": [],
   "source": []
  },
  {
   "cell_type": "code",
   "execution_count": 21,
   "id": "22aabc48-6c51-4a1d-a931-0e37b35a21a7",
   "metadata": {},
   "outputs": [],
   "source": [
    "\n",
    "def add_two_numbers():\n",
    "    a = 16\n",
    "    b = 18\n",
    "    c = a+b\n",
    "    print(c)"
   ]
  },
  {
   "cell_type": "code",
   "execution_count": 22,
   "id": "a4263d45-b568-4e73-9dba-83295c9a83c5",
   "metadata": {},
   "outputs": [
    {
     "name": "stdout",
     "output_type": "stream",
     "text": [
      "34\n"
     ]
    }
   ],
   "source": [
    "add_two_numbers()"
   ]
  },
  {
   "cell_type": "code",
   "execution_count": 23,
   "id": "2d8d51bb-b8a8-4976-bda9-bddca6ca8024",
   "metadata": {},
   "outputs": [],
   "source": [
    "def add_two_numbers(a, b):\n",
    "    c = a+b\n",
    "    print(c)"
   ]
  },
  {
   "cell_type": "code",
   "execution_count": 27,
   "id": "e81c492d-fac9-4c14-9bd7-7b18d687e1b8",
   "metadata": {},
   "outputs": [
    {
     "name": "stdout",
     "output_type": "stream",
     "text": [
      "35\n"
     ]
    }
   ],
   "source": [
    "add_two_numbers(12, 23)"
   ]
  },
  {
   "cell_type": "code",
   "execution_count": 34,
   "id": "98a0b486-80b1-48cd-8b31-4a4c10fd3911",
   "metadata": {},
   "outputs": [],
   "source": [
    "def greet(name):\n",
    "    print(\"Hello\", name, \"!\")"
   ]
  },
  {
   "cell_type": "code",
   "execution_count": 29,
   "id": "98a0ea92-e1d4-44f9-9eaa-2adb61de28db",
   "metadata": {},
   "outputs": [
    {
     "name": "stdout",
     "output_type": "stream",
     "text": [
      "Hello Dinesh !\n"
     ]
    }
   ],
   "source": [
    "greet(\"Dinesh\")"
   ]
  },
  {
   "cell_type": "code",
   "execution_count": 30,
   "id": "e8c8ba04-bcf4-4b5b-b0ee-1a91c9a5ea84",
   "metadata": {},
   "outputs": [
    {
     "name": "stdout",
     "output_type": "stream",
     "text": [
      "Hello Raj !\n"
     ]
    }
   ],
   "source": [
    "greet(\"Raj\")"
   ]
  },
  {
   "cell_type": "code",
   "execution_count": 37,
   "id": "89df10e4-c0a7-4744-ade5-5a72bf31c5e6",
   "metadata": {},
   "outputs": [],
   "source": [
    "def greet(name):\n",
    "    return name"
   ]
  },
  {
   "cell_type": "code",
   "execution_count": 38,
   "id": "cf504d4f-6696-4f43-a250-cb5f26430fe0",
   "metadata": {},
   "outputs": [],
   "source": [
    "my_name = greet(\"Dinesh\")"
   ]
  },
  {
   "cell_type": "code",
   "execution_count": 39,
   "id": "a3ec581f-a8ad-4fbb-94f1-30050494f93a",
   "metadata": {},
   "outputs": [
    {
     "data": {
      "text/plain": [
       "'Dinesh'"
      ]
     },
     "execution_count": 39,
     "metadata": {},
     "output_type": "execute_result"
    }
   ],
   "source": [
    "my_name"
   ]
  },
  {
   "cell_type": "code",
   "execution_count": 47,
   "id": "fad3e9a3-73d1-4500-8fc5-726d74a8b983",
   "metadata": {},
   "outputs": [],
   "source": [
    "def add_two_numbers(a=2, b=5):\n",
    "    c = a+b\n",
    "    print(c)"
   ]
  },
  {
   "cell_type": "code",
   "execution_count": 48,
   "id": "7a5ce266-cab5-4856-b3a6-db07b6087690",
   "metadata": {},
   "outputs": [
    {
     "name": "stdout",
     "output_type": "stream",
     "text": [
      "17\n"
     ]
    }
   ],
   "source": [
    "add_two_numbers(12)"
   ]
  },
  {
   "cell_type": "code",
   "execution_count": 49,
   "id": "dfe5e7ed-453b-44df-ae02-d74b55994272",
   "metadata": {},
   "outputs": [
    {
     "name": "stdout",
     "output_type": "stream",
     "text": [
      "20\n"
     ]
    }
   ],
   "source": [
    "add_two_numbers(b=18)"
   ]
  },
  {
   "cell_type": "code",
   "execution_count": 86,
   "id": "48b1dd73-68c8-4c59-9273-1b88aa0340f8",
   "metadata": {},
   "outputs": [],
   "source": [
    "x = 10"
   ]
  },
  {
   "cell_type": "code",
   "execution_count": 87,
   "id": "1eae8b41-2f40-425f-a094-092ef5655ba4",
   "metadata": {},
   "outputs": [
    {
     "data": {
      "text/plain": [
       "10"
      ]
     },
     "execution_count": 87,
     "metadata": {},
     "output_type": "execute_result"
    }
   ],
   "source": [
    "x"
   ]
  },
  {
   "cell_type": "code",
   "execution_count": 89,
   "id": "4a126b07-44f3-4449-9bdb-368a51d37b16",
   "metadata": {},
   "outputs": [],
   "source": [
    "# global x\n",
    "def my_func():\n",
    "    x = 20\n",
    "    return x"
   ]
  },
  {
   "cell_type": "code",
   "execution_count": 90,
   "id": "91d17a63-bfd4-4f4a-98fa-651386747a54",
   "metadata": {},
   "outputs": [],
   "source": [
    "x = my_func()"
   ]
  },
  {
   "cell_type": "code",
   "execution_count": 91,
   "id": "d7e64c5f-b232-4234-a400-7863d6919153",
   "metadata": {},
   "outputs": [
    {
     "data": {
      "text/plain": [
       "20"
      ]
     },
     "execution_count": 91,
     "metadata": {},
     "output_type": "execute_result"
    }
   ],
   "source": [
    "x"
   ]
  },
  {
   "cell_type": "code",
   "execution_count": 93,
   "id": "e4f8b443-b597-41c9-ae90-059f93ffcacc",
   "metadata": {},
   "outputs": [],
   "source": [
    "def my_factorial(x):\n",
    "    if x==1:\n",
    "        return 1\n",
    "    return x*my_factorial(x-1)\n"
   ]
  },
  {
   "cell_type": "code",
   "execution_count": 94,
   "id": "2547a9f2-f750-4b43-8b8f-92cd27c25fde",
   "metadata": {},
   "outputs": [
    {
     "data": {
      "text/plain": [
       "1"
      ]
     },
     "execution_count": 94,
     "metadata": {},
     "output_type": "execute_result"
    }
   ],
   "source": [
    "my_factorial(1)"
   ]
  },
  {
   "cell_type": "code",
   "execution_count": 95,
   "id": "47b2de5a-e449-493a-b7cb-d82ea2610bf0",
   "metadata": {},
   "outputs": [
    {
     "data": {
      "text/plain": [
       "2"
      ]
     },
     "execution_count": 95,
     "metadata": {},
     "output_type": "execute_result"
    }
   ],
   "source": [
    "my_factorial(2)"
   ]
  },
  {
   "cell_type": "code",
   "execution_count": 96,
   "id": "a97f296f-84a9-43f6-ac0a-b9932f35db08",
   "metadata": {},
   "outputs": [
    {
     "data": {
      "text/plain": [
       "6"
      ]
     },
     "execution_count": 96,
     "metadata": {},
     "output_type": "execute_result"
    }
   ],
   "source": [
    "my_factorial(3)"
   ]
  },
  {
   "cell_type": "code",
   "execution_count": 97,
   "id": "f4733f1e-3d2a-4c11-9148-270227f2969d",
   "metadata": {},
   "outputs": [
    {
     "data": {
      "text/plain": [
       "24"
      ]
     },
     "execution_count": 97,
     "metadata": {},
     "output_type": "execute_result"
    }
   ],
   "source": [
    "my_factorial(4)"
   ]
  },
  {
   "cell_type": "code",
   "execution_count": 99,
   "id": "918e168b-74c6-4ae2-8cd7-6d449266bce9",
   "metadata": {},
   "outputs": [
    {
     "data": {
      "text/plain": [
       "'C:\\\\Users\\\\Dinesh\\\\Documents\\\\Data_Analytics'"
      ]
     },
     "execution_count": 99,
     "metadata": {},
     "output_type": "execute_result"
    }
   ],
   "source": [
    "pwd"
   ]
  },
  {
   "cell_type": "code",
   "execution_count": 3,
   "id": "5c676cd1-bfc9-4d6f-b6ee-71ab2adc9efd",
   "metadata": {},
   "outputs": [],
   "source": [
    "from my_module import greet"
   ]
  },
  {
   "cell_type": "code",
   "execution_count": 4,
   "id": "ca7a223f-051f-47dc-8506-9abb6c777036",
   "metadata": {},
   "outputs": [
    {
     "name": "stdout",
     "output_type": "stream",
     "text": [
      "welcome Friends\n"
     ]
    }
   ],
   "source": [
    "greet()"
   ]
  },
  {
   "cell_type": "code",
   "execution_count": 1,
   "id": "b849e09d-7098-443a-9b70-66999431d957",
   "metadata": {},
   "outputs": [],
   "source": [
    "import my_module"
   ]
  },
  {
   "cell_type": "code",
   "execution_count": 2,
   "id": "d27c9d92-8b7f-4e14-87b4-76766d5a3cdf",
   "metadata": {},
   "outputs": [
    {
     "name": "stdout",
     "output_type": "stream",
     "text": [
      "welcome Friends\n"
     ]
    }
   ],
   "source": [
    "my_module.greet()"
   ]
  },
  {
   "cell_type": "code",
   "execution_count": 1,
   "id": "8fcfa8c0-8a0b-4ef4-b3b0-a2c8fa4a6448",
   "metadata": {},
   "outputs": [],
   "source": [
    "from my_module2 import greet"
   ]
  },
  {
   "cell_type": "code",
   "execution_count": 3,
   "id": "d5237989-bda2-42af-955f-536e52b0d028",
   "metadata": {},
   "outputs": [
    {
     "name": "stdout",
     "output_type": "stream",
     "text": [
      "welcome Raj\n"
     ]
    }
   ],
   "source": [
    "greet(\"Raj\")"
   ]
  },
  {
   "cell_type": "code",
   "execution_count": null,
   "id": "6aeff7d7-3a7f-450b-ae16-207df17d33c9",
   "metadata": {},
   "outputs": [],
   "source": []
  }
 ],
 "metadata": {
  "kernelspec": {
   "display_name": "Python 3 (ipykernel)",
   "language": "python",
   "name": "python3"
  },
  "language_info": {
   "codemirror_mode": {
    "name": "ipython",
    "version": 3
   },
   "file_extension": ".py",
   "mimetype": "text/x-python",
   "name": "python",
   "nbconvert_exporter": "python",
   "pygments_lexer": "ipython3",
   "version": "3.10.0"
  }
 },
 "nbformat": 4,
 "nbformat_minor": 5
}
