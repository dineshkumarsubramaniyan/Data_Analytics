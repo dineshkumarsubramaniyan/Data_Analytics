{
 "cells": [
  {
   "cell_type": "markdown",
   "id": "6b5cdf53",
   "metadata": {},
   "source": [
    "# 🐍 Seaborn Visualization with Iris Dataset\n",
    "This notebook demonstrates a wide range of Seaborn plots using the Iris dataset."
   ]
  },
  {
   "cell_type": "code",
   "execution_count": null,
   "id": "a9f533e3",
   "metadata": {},
   "outputs": [],
   "source": [
    "import seaborn as sns\n",
    "import matplotlib.pyplot as plt\n",
    "import pandas as pd\n",
    "from sklearn.datasets import load_iris\n",
    "\n",
    "# Load dataset\n",
    "iris = load_iris()\n",
    "df = pd.DataFrame(data=iris.data, columns=iris.feature_names)\n",
    "df['species'] = pd.Categorical.from_codes(iris.target, iris.target_names)\n",
    "df.head()"
   ]
  },
  {
   "cell_type": "markdown",
   "id": "fc62bdfc",
   "metadata": {},
   "source": [
    "## 1️⃣ Scatter Plot"
   ]
  },
  {
   "cell_type": "code",
   "execution_count": null,
   "id": "7281ad36",
   "metadata": {},
   "outputs": [],
   "source": [
    "sns.scatterplot(data=df, x='sepal length (cm)', y='sepal width (cm)', hue='species')\n",
    "plt.title(\"Scatter Plot of Sepal Dimensions\")\n",
    "plt.show()"
   ]
  },
  {
   "cell_type": "markdown",
   "id": "b8241a73",
   "metadata": {},
   "source": [
    "## 2️⃣ Line Plot"
   ]
  },
  {
   "cell_type": "code",
   "execution_count": null,
   "id": "fed77e44",
   "metadata": {},
   "outputs": [],
   "source": [
    "sns.lineplot(data=df[['sepal length (cm)', 'sepal width (cm)']])\n",
    "plt.title(\"Line Plot of Sepal Dimensions\")\n",
    "plt.show()"
   ]
  },
  {
   "cell_type": "markdown",
   "id": "5649c21c",
   "metadata": {},
   "source": [
    "## 3️⃣ Histogram (Displot)"
   ]
  },
  {
   "cell_type": "code",
   "execution_count": null,
   "id": "cf2c0ebc",
   "metadata": {},
   "outputs": [],
   "source": [
    "sns.displot(df['petal length (cm)'], kde=True, bins=20, color='purple')\n",
    "plt.title(\"Distribution of Petal Length\")\n",
    "plt.show()"
   ]
  },
  {
   "cell_type": "markdown",
   "id": "ee029aac",
   "metadata": {},
   "source": [
    "## 4️⃣ Boxplot"
   ]
  },
  {
   "cell_type": "code",
   "execution_count": null,
   "id": "5c10cbbb",
   "metadata": {},
   "outputs": [],
   "source": [
    "sns.boxplot(data=df, x='species', y='petal length (cm)')\n",
    "plt.title(\"Boxplot of Petal Length by Species\")\n",
    "plt.show()"
   ]
  },
  {
   "cell_type": "markdown",
   "id": "f8272a30",
   "metadata": {},
   "source": [
    "## 5️⃣ Violin Plot"
   ]
  },
  {
   "cell_type": "code",
   "execution_count": null,
   "id": "4604db20",
   "metadata": {},
   "outputs": [],
   "source": [
    "sns.violinplot(data=df, x='species', y='sepal length (cm)')\n",
    "plt.title(\"Violin Plot of Sepal Length by Species\")\n",
    "plt.show()"
   ]
  },
  {
   "cell_type": "markdown",
   "id": "a11ccef4",
   "metadata": {},
   "source": [
    "## 6️⃣ Swarm Plot"
   ]
  },
  {
   "cell_type": "code",
   "execution_count": null,
   "id": "a7695db8",
   "metadata": {},
   "outputs": [],
   "source": [
    "sns.swarmplot(data=df, x='species', y='sepal width (cm)', palette='Set2')\n",
    "plt.title(\"Swarm Plot of Sepal Width\")\n",
    "plt.show()"
   ]
  },
  {
   "cell_type": "markdown",
   "id": "e3c5ddc6",
   "metadata": {},
   "source": [
    "## 7️⃣ Strip Plot"
   ]
  },
  {
   "cell_type": "code",
   "execution_count": null,
   "id": "5f51b43f",
   "metadata": {},
   "outputs": [],
   "source": [
    "sns.stripplot(data=df, x='species', y='petal width (cm)', jitter=True, color='green')\n",
    "plt.title(\"Strip Plot of Petal Width\")\n",
    "plt.show()"
   ]
  },
  {
   "cell_type": "markdown",
   "id": "cb7c24d6",
   "metadata": {},
   "source": [
    "## 8️⃣ Bar Plot"
   ]
  },
  {
   "cell_type": "code",
   "execution_count": null,
   "id": "2cd87bb6",
   "metadata": {},
   "outputs": [],
   "source": [
    "sns.barplot(data=df, x='species', y='petal length (cm)', estimator='mean')\n",
    "plt.title(\"Mean Petal Length by Species\")\n",
    "plt.show()"
   ]
  },
  {
   "cell_type": "markdown",
   "id": "6aeb86c5",
   "metadata": {},
   "source": [
    "## 9️⃣ Count Plot"
   ]
  },
  {
   "cell_type": "code",
   "execution_count": null,
   "id": "69998b06",
   "metadata": {},
   "outputs": [],
   "source": [
    "sns.countplot(data=df, x='species', palette='muted')\n",
    "plt.title(\"Count of Species\")\n",
    "plt.show()"
   ]
  },
  {
   "cell_type": "markdown",
   "id": "64faee60",
   "metadata": {},
   "source": [
    "## 🔟 Pair Plot"
   ]
  },
  {
   "cell_type": "code",
   "execution_count": null,
   "id": "001a54fd",
   "metadata": {},
   "outputs": [],
   "source": [
    "sns.pairplot(df, hue='species', diag_kind='kde')\n",
    "plt.suptitle(\"Pair Plot of All Features\", y=1.02)\n",
    "plt.show()"
   ]
  },
  {
   "cell_type": "markdown",
   "id": "7a343c28",
   "metadata": {},
   "source": [
    "## 1️⃣1️⃣ Correlation Heatmap"
   ]
  },
  {
   "cell_type": "code",
   "execution_count": null,
   "id": "8c12b02a",
   "metadata": {},
   "outputs": [],
   "source": [
    "corr = df.iloc[:, :-1].corr()\n",
    "sns.heatmap(corr, annot=True, cmap='coolwarm')\n",
    "plt.title(\"Correlation Heatmap\")\n",
    "plt.show()"
   ]
  },
  {
   "cell_type": "markdown",
   "id": "29623b51",
   "metadata": {},
   "source": [
    "## 1️⃣2️⃣ Joint Plot"
   ]
  },
  {
   "cell_type": "code",
   "execution_count": null,
   "id": "3975ab82",
   "metadata": {},
   "outputs": [],
   "source": [
    "sns.jointplot(data=df, x='sepal length (cm)', y='sepal width (cm)', hue='species', kind='scatter')"
   ]
  },
  {
   "cell_type": "markdown",
   "id": "0c762f19",
   "metadata": {},
   "source": [
    "## 1️⃣3️⃣ KDE Plot"
   ]
  },
  {
   "cell_type": "code",
   "execution_count": null,
   "id": "bc08d725",
   "metadata": {},
   "outputs": [],
   "source": [
    "sns.kdeplot(data=df, x='petal length (cm)', fill=True, hue='species')\n",
    "plt.title(\"KDE Plot of Petal Length\")\n",
    "plt.show()"
   ]
  }
 ],
 "metadata": {
  "kernelspec": {
   "display_name": "Python 3 (ipykernel)",
   "language": "python",
   "name": "python3"
  },
  "language_info": {
   "codemirror_mode": {
    "name": "ipython",
    "version": 3
   },
   "file_extension": ".py",
   "mimetype": "text/x-python",
   "name": "python",
   "nbconvert_exporter": "python",
   "pygments_lexer": "ipython3",
   "version": "3.10.0"
  }
 },
 "nbformat": 4,
 "nbformat_minor": 5
}
