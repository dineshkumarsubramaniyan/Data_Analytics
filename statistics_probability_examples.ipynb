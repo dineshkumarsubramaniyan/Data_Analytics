{
 "cells": [
  {
   "cell_type": "markdown",
   "metadata": {},
   "source": [
    "# Statistics and Probability Concepts with Examples"
   ]
  },
  {
   "cell_type": "markdown",
   "metadata": {},
   "source": [
    "## Central Tendency\n",
    "Central tendency identifies a single value as representative of an entire distribution.\n",
    "- Mean\n",
    "- Median\n",
    "- Mode"
   ]
  },
  {
   "cell_type": "code",
   "execution_count": 1,
   "metadata": {},
   "outputs": [],
   "source": [
    "import numpy as np\n",
    "from scipy import stats"
   ]
  },
  {
   "cell_type": "code",
   "execution_count": null,
   "metadata": {},
   "outputs": [],
   "source": [
    "# Example data\n",
    "data = [1, 2, 2, 3, 4, 5, 5, 5, 6]\n",
    "\n",
    "# Mean\n",
    "print(\"Mean:\", np.mean(data))\n",
    "\n",
    "# Median\n",
    "print(\"Median:\", np.median(data))\n",
    "\n",
    "# Mode\n",
    "mode = stats.mode(data, keepdims=True)\n",
    "print(\"Mode:\", mode.mode[0])"
   ]
  },
  {
   "cell_type": "markdown",
   "metadata": {},
   "source": [
    "## Dispersion of Data Point\n",
    "Dispersion indicates the spread or variability of data points.\n",
    "- Range\n",
    "- Variance\n",
    "- Standard Deviation"
   ]
  },
  {
   "cell_type": "code",
   "execution_count": null,
   "metadata": {},
   "outputs": [],
   "source": [
    "# Range\n",
    "print(\"Range:\", np.ptp(data))\n",
    "\n",
    "# Variance\n",
    "print(\"Variance:\", np.var(data))\n",
    "\n",
    "# Standard Deviation\n",
    "print(\"Standard Deviation:\", np.std(data))"
   ]
  },
  {
   "cell_type": "markdown",
   "metadata": {},
   "source": [
    "## Probability Theory\n",
    "The branch of mathematics concerned with probability, the analysis of random phenomena."
   ]
  },
  {
   "cell_type": "code",
   "execution_count": null,
   "metadata": {},
   "outputs": [],
   "source": [
    "# Simulating coin tosses\n",
    "outcomes = np.random.choice(['Heads', 'Tails'], size=1000)\n",
    "print(\"Probability of Heads:\", np.mean(outcomes == 'Heads'))"
   ]
  },
  {
   "cell_type": "markdown",
   "metadata": {},
   "source": [
    "## Descriptive Statistics\n",
    "Summarize and describe the features of a dataset.\n",
    "Includes: mean, median, mode, standard deviation, variance."
   ]
  },
  {
   "cell_type": "markdown",
   "metadata": {},
   "source": [
    "## Frequency Tables\n",
    "Shows how often each value occurs."
   ]
  },
  {
   "cell_type": "code",
   "execution_count": null,
   "metadata": {},
   "outputs": [],
   "source": [
    "import pandas as pd\n",
    "\n",
    "# Create frequency table\n",
    "data_series = pd.Series(data)\n",
    "frequency_table = data_series.value_counts().sort_index()\n",
    "print(\"Frequency Table:\\n\", frequency_table)"
   ]
  },
  {
   "cell_type": "markdown",
   "metadata": {},
   "source": [
    "## Probability Density Function (PDF)\n",
    "Used for continuous data to describe the relative likelihood of a random variable."
   ]
  },
  {
   "cell_type": "code",
   "execution_count": null,
   "metadata": {},
   "outputs": [],
   "source": [
    "import matplotlib.pyplot as plt\n",
    "import seaborn as sns\n",
    "\n",
    "sns.kdeplot(data, fill=True)\n",
    "plt.title('Probability Density Function')\n",
    "plt.show()"
   ]
  },
  {
   "cell_type": "markdown",
   "metadata": {},
   "source": [
    "## Probability Mass Function (PMF)\n",
    "Used for discrete variables to describe the probability of each outcome."
   ]
  },
  {
   "cell_type": "code",
   "execution_count": null,
   "metadata": {},
   "outputs": [],
   "source": [
    "from collections import Counter\n",
    "import matplotlib.pyplot as plt\n",
    "\n",
    "pmf = Counter(data)\n",
    "total = sum(pmf.values())\n",
    "for key in pmf:\n",
    "    pmf[key] /= total\n",
    "\n",
    "plt.bar(pmf.keys(), pmf.values())\n",
    "plt.title('Probability Mass Function')\n",
    "plt.xlabel('Values')\n",
    "plt.ylabel('Probability')\n",
    "plt.show()"
   ]
  }
 ],
 "metadata": {
  "kernelspec": {
   "display_name": "Python 3 (ipykernel)",
   "language": "python",
   "name": "python3"
  },
  "language_info": {
   "codemirror_mode": {
    "name": "ipython",
    "version": 3
   },
   "file_extension": ".py",
   "mimetype": "text/x-python",
   "name": "python",
   "nbconvert_exporter": "python",
   "pygments_lexer": "ipython3",
   "version": "3.10.0"
  }
 },
 "nbformat": 4,
 "nbformat_minor": 4
}
